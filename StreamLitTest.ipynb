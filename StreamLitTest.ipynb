{
  "nbformat": 4,
  "nbformat_minor": 0,
  "metadata": {
    "colab": {
      "provenance": [],
      "authorship_tag": "ABX9TyNlkDWzaV+nSWZElwmiKGGT",
      "include_colab_link": true
    },
    "kernelspec": {
      "name": "python3",
      "display_name": "Python 3"
    },
    "language_info": {
      "name": "python"
    }
  },
  "cells": [
    {
      "cell_type": "markdown",
      "metadata": {
        "id": "view-in-github",
        "colab_type": "text"
      },
      "source": [
        "<a href=\"https://colab.research.google.com/github/Jansher27/Streamlit1Repo/blob/main/StreamLitTest.ipynb\" target=\"_parent\"><img src=\"https://colab.research.google.com/assets/colab-badge.svg\" alt=\"Open In Colab\"/></a>"
      ]
    },
    {
      "cell_type": "code",
      "execution_count": null,
      "metadata": {
        "id": "kEa9LlS4wJIC"
      },
      "outputs": [],
      "source": [
        "import streamlit as st\n",
        "import pandas as pd\n",
        "from sklearn.ensemble import RandomForestClassifier\n",
        "\n",
        "# App title and description\n",
        "st.title('Interactive Machine Learning Explorer')\n",
        "st.write('Upload your dataset and choose a machine learning algorithm to see its performance.')\n",
        "\n",
        "# Data upload\n",
        "data_file = st.file_uploader(\"Upload CSV\", type=['csv'])\n",
        "if data_file is not None:\n",
        "    data = pd.read_csv(data_file)\n",
        "    st.write(data.head())\n",
        "\n",
        "# Algorithm selection\n",
        "algorithm = st.selectbox('Select algorithm', ['Random Forest', 'SVM', 'Logistic Regression'])\n",
        "\n",
        "# Parameter settings based on algorithm choice\n",
        "if algorithm == 'Random Forest':\n",
        "    n_estimators = st.slider('Number of trees', 10, 100)\n",
        "    # Further parameters and model training\n",
        "\n",
        "# Display model performance and visualizations\n",
        "# st.write(metrics)\n",
        "# st.pyplot(plot)\n"
      ]
    }
  ]
}